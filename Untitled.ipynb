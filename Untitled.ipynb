{
 "cells": [
  {
   "cell_type": "code",
   "execution_count": 1,
   "id": "8ae2cbfa-95ff-4651-8711-70478357dd40",
   "metadata": {},
   "outputs": [],
   "source": [
    "from IPython.display import clear_output\n",
    "\n",
    "def display_board(board):\n",
    "    clear_output()\n",
    "    print('------------------')\n",
    "    print('|    |      |    |' )\n",
    "    print('|',board[7] , ' | ' , board[8]  ,'  | ' ,board[9],'|')\n",
    "    print('|    |      |    |' )\n",
    "    print('------------------')\n",
    "    print('|    |      |    |' )\n",
    "    print('|',board[4] , ' | ' , board[5]  ,'  | ' ,board[6],'|')\n",
    "    print('|    |      |    |' )\n",
    "    print('------------------')\n",
    "    print('|    |      |    |' )\n",
    "    print('|',board[1] , ' | ' , board[2]  ,'  | ' ,board[3],'|')\n",
    "    print('|    |      |    |' )\n",
    "    print('------------------')"
   ]
  },
  {
   "cell_type": "code",
   "execution_count": 3,
   "id": "d386bbeb-5cf8-42e1-9a6f-4f6bd9db159a",
   "metadata": {},
   "outputs": [
    {
     "name": "stdout",
     "output_type": "stream",
     "text": [
      "------------------\n",
      "|    |      |    |\n",
      "| X  |  O   |  X |\n",
      "|    |      |    |\n",
      "------------------\n",
      "|    |      |    |\n",
      "| O  |  X   |  O |\n",
      "|    |      |    |\n",
      "------------------\n",
      "|    |      |    |\n",
      "| X  |  O   |  X |\n",
      "|    |      |    |\n",
      "------------------\n"
     ]
    }
   ],
   "source": [
    "test_board=['#','X','O','X','O','X','O','X','O','X']\n",
    "display_board(test_board)"
   ]
  },
  {
   "cell_type": "code",
   "execution_count": 5,
   "id": "fe32e6a1-06f9-488f-9a95-0e274813bf49",
   "metadata": {},
   "outputs": [],
   "source": [
    "def player_input():\n",
    "    marker=' '\n",
    "    while not(marker=='x' and marker=='y'):\n",
    "        marker=input(\"player 1: choose a marker:\")\n",
    "        if marker =='x':\n",
    "            return ('x','o')\n",
    "        else:\n",
    "            return ('o','x')\n",
    "            \n",
    "        "
   ]
  },
  {
   "cell_type": "code",
   "execution_count": 7,
   "id": "615d3b08-570e-4614-9591-e6bb77b33552",
   "metadata": {},
   "outputs": [],
   "source": [
    "def place_marker(board,marker,position):\n",
    "    board[position]=marker"
   ]
  },
  {
   "cell_type": "code",
   "execution_count": 9,
   "id": "a42187fa-a116-43ae-8006-9dfa535ee5f2",
   "metadata": {},
   "outputs": [],
   "source": [
    "def win_check(board,marker):\n",
    "    return ((board[1] == marker and board[2] == marker and board[3] == marker) \n",
    "            or (board[1] == marker and board[4] == marker and board[7] == marker) \n",
    "            or (board[9] == marker and board[6] == marker and board[3] == marker) \n",
    "            or (board[7] == marker and board[8] == marker and board[9] == marker) \n",
    "            or (board[8] == marker and board[5] == marker and board[2] == marker) \n",
    "            or (board[1] == marker and board[5] == marker and board[9] == marker) \n",
    "            or (board[7] == marker and board[5] == marker and board[3] == marker)   \n",
    "            or (board[4] == marker and board[5] == marker and board[6] == marker))\n",
    "    \n",
    "    "
   ]
  },
  {
   "cell_type": "code",
   "execution_count": 11,
   "id": "432b7ad2-45a0-49e0-8ad3-80f2052072f5",
   "metadata": {},
   "outputs": [],
   "source": [
    "import random\n",
    "\n",
    "def choose_first():\n",
    "     i = random.randint(0,1)\n",
    "     if i==0:\n",
    "        return 'player1'\n",
    "     else:\n",
    "         return 'player2'\n",
    "        \n",
    "         \n",
    "    "
   ]
  },
  {
   "cell_type": "code",
   "execution_count": 13,
   "id": "adec9bf0-46ad-435b-babf-b3cc50da9983",
   "metadata": {},
   "outputs": [],
   "source": [
    "def space_check(board,position):\n",
    "    return board[position]==' '"
   ]
  },
  {
   "cell_type": "code",
   "execution_count": 15,
   "id": "fb175c6c-ce57-43bd-836d-5e1a83c0cf83",
   "metadata": {},
   "outputs": [],
   "source": [
    "def full_boardcheck(board):\n",
    "    for i in range(1,10):\n",
    "        if space_check(board,i):\n",
    "            return False\n",
    "    \n",
    "    return True"
   ]
  },
  {
   "cell_type": "code",
   "execution_count": 17,
   "id": "073c7e09-38ef-427c-b082-7076ff30d1bd",
   "metadata": {},
   "outputs": [],
   "source": [
    "def player_choice(board):\n",
    "    position=0\n",
    "    while position not in [1,2,3,4,5,6,7,8,9] and space_check(board,position):\n",
    "        position=int(input(\"choose the next position: \"))\n",
    "    return position\n",
    "        \n",
    "    \n",
    "    "
   ]
  },
  {
   "cell_type": "code",
   "execution_count": 19,
   "id": "aa835d92-b4ce-4858-8662-d56cccf0cae0",
   "metadata": {},
   "outputs": [],
   "source": [
    "def replay():\n",
    "    \n",
    "        choice=input('do you want to play again(yes or no):')\n",
    "        return choice=='yes'"
   ]
  },
  {
   "cell_type": "code",
   "execution_count": null,
   "id": "72d992c5-a73f-436d-88cd-af173019ae37",
   "metadata": {},
   "outputs": [
    {
     "name": "stdout",
     "output_type": "stream",
     "text": [
      "------------------\n",
      "|    |      |    |\n",
      "| o  |      |    |\n",
      "|    |      |    |\n",
      "------------------\n",
      "|    |      |    |\n",
      "| x  |  o   |  x |\n",
      "|    |      |    |\n",
      "------------------\n",
      "|    |      |    |\n",
      "| o  |  x   |  o |\n",
      "|    |      |    |\n",
      "------------------\n",
      "player2 won\n"
     ]
    },
    {
     "name": "stdin",
     "output_type": "stream",
     "text": [
      "player 1: choose a marker: 8\n"
     ]
    },
    {
     "name": "stdout",
     "output_type": "stream",
     "text": [
      "player1 will go first\n"
     ]
    },
    {
     "name": "stdin",
     "output_type": "stream",
     "text": [
      "ready to play? yes or nor: x\n",
      "player 1: choose a marker: x\n"
     ]
    },
    {
     "name": "stdout",
     "output_type": "stream",
     "text": [
      "player2 will go first\n"
     ]
    }
   ],
   "source": [
    "print('Welcome to Tic Tac Toe!')\n",
    "\n",
    "while True:\n",
    "    # Set the game up here\n",
    "    ##set everything up(board,whosefirst,choosemarkers)\n",
    "    board=[\" \"]*10\n",
    "    player1,player2=player_input()\n",
    "\n",
    "    turn = choose_first()\n",
    "    print(turn+\" will go first\")\n",
    "\n",
    "    play_game = input('ready to play? yes or nor:')\n",
    "    if play_game=='yes':\n",
    "        game_on=True\n",
    "    else:\n",
    "        game_on=False\n",
    "    \n",
    "\n",
    "    while game_on:\n",
    "        #Player 1 Turn\n",
    "        if turn == \"player1\":\n",
    "            \n",
    "            display_board(board)\n",
    "            \n",
    "            position=player_choice(board)\n",
    "            \n",
    "            place_marker(board,player1,position)\n",
    "            \n",
    "            if win_check(board,player1):\n",
    "                display_board(board)\n",
    "                print('player1 won')\n",
    "                game_on=False\n",
    "            elif full_boardcheck(board):\n",
    "                display_board(board)\n",
    "                print('tie game')\n",
    "                game_on=False\n",
    "                break\n",
    "            else:\n",
    "                turn=\"player2\"\n",
    "        # Player2's turn.\n",
    "        elif turn == 'player2':\n",
    "            \n",
    "        \n",
    "            display_board(board)\n",
    "            \n",
    "            position=player_choice(board)\n",
    "            \n",
    "            place_marker(board,player2,position)\n",
    "            \n",
    "            if win_check(board,player2):\n",
    "                display_board(board)\n",
    "                print('player2 won')\n",
    "                game_on=False\n",
    "            elif full_boardcheck(board):\n",
    "                display_board(board)\n",
    "                print('tie game')\n",
    "                game_on=False\n",
    "                break\n",
    "            else:\n",
    "                turn=\"player1\"\n",
    "        else:\n",
    "            if not replay():\n",
    "                break\n",
    "                \n",
    "        \n",
    "        \n",
    "                \n",
    "                \n",
    "          "
   ]
  },
  {
   "cell_type": "code",
   "execution_count": null,
   "id": "d1a8682a-8196-43c2-aa6e-bea369a014b4",
   "metadata": {},
   "outputs": [],
   "source": []
  },
  {
   "cell_type": "code",
   "execution_count": null,
   "id": "4b37a0ec-ad9a-44c4-a4d3-16d5789bc0d6",
   "metadata": {},
   "outputs": [],
   "source": []
  },
  {
   "cell_type": "code",
   "execution_count": null,
   "id": "65dbbc82-9f43-44ef-b06c-b7728656efbb",
   "metadata": {},
   "outputs": [],
   "source": []
  },
  {
   "cell_type": "code",
   "execution_count": null,
   "id": "ac73a952-c4e9-488f-bf2e-2be5bf523061",
   "metadata": {},
   "outputs": [],
   "source": []
  }
 ],
 "metadata": {
  "kernelspec": {
   "display_name": "Python [conda env:base] *",
   "language": "python",
   "name": "conda-base-py"
  },
  "language_info": {
   "codemirror_mode": {
    "name": "ipython",
    "version": 3
   },
   "file_extension": ".py",
   "mimetype": "text/x-python",
   "name": "python",
   "nbconvert_exporter": "python",
   "pygments_lexer": "ipython3",
   "version": "3.12.7"
  }
 },
 "nbformat": 4,
 "nbformat_minor": 5
}
